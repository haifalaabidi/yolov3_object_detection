{
  "nbformat": 4,
  "nbformat_minor": 0,
  "metadata": {
    "colab": {
      "provenance": [],
      "gpuType": "T4"
    },
    "kernelspec": {
      "name": "python3",
      "display_name": "Python 3"
    },
    "language_info": {
      "name": "python"
    },
    "accelerator": "GPU"
  },
  "cells": [
    {
      "cell_type": "code",
      "execution_count": 1,
      "metadata": {
        "id": "9Hbjk7xyIHWC"
      },
      "outputs": [],
      "source": [
        "import cv2\n",
        "import numpy as np\n",
        "import matplotlib.pyplot as plt"
      ]
    },
    {
      "cell_type": "code",
      "source": [
        "net = cv2.dnn.readNetFromDarknet(\"yolov3_custom.cfg\",\"yolov3_custom_last(1).weights\")\n",
        "#print(\"Model and configuration loaded successfully.\")"
      ],
      "metadata": {
        "colab": {
          "base_uri": "https://localhost:8080/",
          "height": 245
        },
        "id": "rRIr7UasILUy",
        "outputId": "51f88c71-bfc3-4642-cd1b-ce04e23d97fd"
      },
      "execution_count": 4,
      "outputs": [
        {
          "output_type": "error",
          "ename": "error",
          "evalue": "ignored",
          "traceback": [
            "\u001b[0;31m---------------------------------------------------------------------------\u001b[0m",
            "\u001b[0;31merror\u001b[0m                                     Traceback (most recent call last)",
            "\u001b[0;32m<ipython-input-4-29a7008cb16a>\u001b[0m in \u001b[0;36m<cell line: 1>\u001b[0;34m()\u001b[0m\n\u001b[0;32m----> 1\u001b[0;31m \u001b[0mnet\u001b[0m \u001b[0;34m=\u001b[0m \u001b[0mcv2\u001b[0m\u001b[0;34m.\u001b[0m\u001b[0mdnn\u001b[0m\u001b[0;34m.\u001b[0m\u001b[0mreadNetFromDarknet\u001b[0m\u001b[0;34m(\u001b[0m\u001b[0;34m\"yolov3_custom.cfg\"\u001b[0m\u001b[0;34m,\u001b[0m\u001b[0;34m\"yolov3_custom_last(1).weights\"\u001b[0m\u001b[0;34m)\u001b[0m\u001b[0;34m\u001b[0m\u001b[0;34m\u001b[0m\u001b[0m\n\u001b[0m\u001b[1;32m      2\u001b[0m \u001b[0;31m#print(\"Model and configuration loaded successfully.\")\u001b[0m\u001b[0;34m\u001b[0m\u001b[0;34m\u001b[0m\u001b[0m\n",
            "\u001b[0;31merror\u001b[0m: OpenCV(4.8.0) /io/opencv/modules/dnn/src/darknet/darknet_importer.cpp:217: error: (-212:Parsing error) Failed to parse NetParameter file: yolov3_custom_last(1).weights in function 'readNetFromDarknet'\n"
          ]
        }
      ]
    },
    {
      "cell_type": "code",
      "source": [
        "classes = ['Name','Profile','Contact','Experience','Education','Skills','Projects','Certifications','Community','Languages','Interests']"
      ],
      "metadata": {
        "id": "kidRjXIYJXYX"
      },
      "execution_count": 20,
      "outputs": []
    },
    {
      "cell_type": "code",
      "source": [
        "from google.colab.patches import cv2_imshow\n",
        "# Load image\n",
        "img = cv2.imread(\"4a84d3b4-8e42-4c1a-b34f-0dfc4ef596a2.jpg\")\n",
        "img = cv2.resize(img, (1280, 720))\n",
        "hight, width, _ = img.shape\n",
        "blob = cv2.dnn.blobFromImage(img, 1/255, (416, 416), (0, 0, 0), swapRB=True, crop=False)\n",
        "# Forward pass\n",
        "net.setInput(blob)\n",
        "output_layers_name = net.getUnconnectedOutLayersNames()\n",
        "layerOutputs = net.forward(output_layers_name)\n",
        "# Object detection\n",
        "boxes = []\n",
        "confidences = []\n",
        "class_ids = []\n",
        "for output in layerOutputs:\n",
        "    for detection in output:\n",
        "        score = detection[5:]\n",
        "        class_id = np.argmax(score)\n",
        "        confidence = score[class_id]\n",
        "        if confidence > 0.5:\n",
        "            center_x = int(detection[0] * width)\n",
        "            center_y = int(detection[1] * hight)\n",
        "            w = int(detection[2] * width)\n",
        "            h = int(detection[3] * hight)\n",
        "            x = int(center_x - w/2)\n",
        "            y = int(center_y - h/2)\n",
        "            boxes.append([x, y, w, h])\n",
        "            confidences.append(float(confidence))\n",
        "            class_ids.append(class_id)\n",
        "# Non-maximum suppression\n",
        "indexes = cv2.dnn.NMSBoxes(boxes, confidences, 0.1, 0.4)\n",
        "# Draw bounding boxes and labels\n",
        "font = cv2.FONT_HERSHEY_PLAIN\n",
        "colors = np.random.uniform(0, 255, size=(len(boxes), 3))\n",
        "if len(indexes) > 0:\n",
        "    for i in indexes.flatten():\n",
        "        x, y, w, h = boxes[i]\n",
        "        label = str(classes[class_ids[i]])\n",
        "        confidence = str(round(confidences[i], 2))\n",
        "        color = colors[i]\n",
        "        cv2.rectangle(img, (x, y), (x+w, y+h), color, 2)\n",
        "        cv2.putText(img, label + \" \" + confidence, (x, y+30), font, 2, color, 2)\n",
        "# Display the result\n",
        "cv2_imshow(img)\n",
        "#cv2.waitKey(0)\n",
        "cv2.destroyAllWindows()"
      ],
      "metadata": {
        "colab": {
          "base_uri": "https://localhost:8080/",
          "height": 317
        },
        "id": "1YyykJfRJ6Ma",
        "outputId": "bfc7b6e0-5d50-4353-aefc-2e6505f88582"
      },
      "execution_count": 5,
      "outputs": [
        {
          "output_type": "error",
          "ename": "error",
          "evalue": "ignored",
          "traceback": [
            "\u001b[0;31m---------------------------------------------------------------------------\u001b[0m",
            "\u001b[0;31merror\u001b[0m                                     Traceback (most recent call last)",
            "\u001b[0;32m<ipython-input-5-b76b31c4acdc>\u001b[0m in \u001b[0;36m<cell line: 3>\u001b[0;34m()\u001b[0m\n\u001b[1;32m      1\u001b[0m \u001b[0;32mfrom\u001b[0m \u001b[0mgoogle\u001b[0m\u001b[0;34m.\u001b[0m\u001b[0mcolab\u001b[0m\u001b[0;34m.\u001b[0m\u001b[0mpatches\u001b[0m \u001b[0;32mimport\u001b[0m \u001b[0mcv2_imshow\u001b[0m\u001b[0;34m\u001b[0m\u001b[0;34m\u001b[0m\u001b[0m\n\u001b[1;32m      2\u001b[0m \u001b[0;31m# Load pre-trained neural network and classes\u001b[0m\u001b[0;34m\u001b[0m\u001b[0;34m\u001b[0m\u001b[0m\n\u001b[0;32m----> 3\u001b[0;31m \u001b[0mnet\u001b[0m \u001b[0;34m=\u001b[0m \u001b[0mcv2\u001b[0m\u001b[0;34m.\u001b[0m\u001b[0mdnn\u001b[0m\u001b[0;34m.\u001b[0m\u001b[0mreadNet\u001b[0m\u001b[0;34m(\u001b[0m\u001b[0;34m\"yolov3_custom_last.weights\"\u001b[0m\u001b[0;34m,\u001b[0m \u001b[0;34m\"yolov3_custom.cfg\"\u001b[0m\u001b[0;34m)\u001b[0m\u001b[0;34m\u001b[0m\u001b[0;34m\u001b[0m\u001b[0m\n\u001b[0m\u001b[1;32m      4\u001b[0m \u001b[0mclasses\u001b[0m \u001b[0;34m=\u001b[0m \u001b[0;34m[\u001b[0m\u001b[0;34m'Name'\u001b[0m\u001b[0;34m,\u001b[0m\u001b[0;34m'Profile'\u001b[0m\u001b[0;34m,\u001b[0m\u001b[0;34m'Contact'\u001b[0m\u001b[0;34m,\u001b[0m\u001b[0;34m'Experience'\u001b[0m\u001b[0;34m,\u001b[0m\u001b[0;34m'Education'\u001b[0m\u001b[0;34m,\u001b[0m\u001b[0;34m'Skills'\u001b[0m\u001b[0;34m,\u001b[0m\u001b[0;34m'Projects'\u001b[0m\u001b[0;34m,\u001b[0m\u001b[0;34m'Certifications'\u001b[0m\u001b[0;34m,\u001b[0m\u001b[0;34m'Community'\u001b[0m\u001b[0;34m,\u001b[0m\u001b[0;34m'Languages'\u001b[0m\u001b[0;34m,\u001b[0m\u001b[0;34m'Interests'\u001b[0m\u001b[0;34m]\u001b[0m\u001b[0;34m\u001b[0m\u001b[0;34m\u001b[0m\u001b[0m\n\u001b[1;32m      5\u001b[0m \u001b[0;34m\u001b[0m\u001b[0m\n",
            "\u001b[0;31merror\u001b[0m: OpenCV(4.8.0) /io/opencv/modules/dnn/src/darknet/darknet_importer.cpp:217: error: (-212:Parsing error) Failed to parse NetParameter file: yolov3_custom_last.weights in function 'readNetFromDarknet'\n"
          ]
        }
      ]
    },
    {
      "cell_type": "code",
      "source": [
        "class_ids"
      ],
      "metadata": {
        "colab": {
          "base_uri": "https://localhost:8080/"
        },
        "id": "vME2aXAzNS6b",
        "outputId": "a61b5d35-09cf-4e55-ec88-4a59382bbe4c"
      },
      "execution_count": 22,
      "outputs": [
        {
          "output_type": "execute_result",
          "data": {
            "text/plain": [
              "[]"
            ]
          },
          "metadata": {},
          "execution_count": 22
        }
      ]
    },
    {
      "cell_type": "code",
      "source": [],
      "metadata": {
        "id": "Y0DUkNhTNmje"
      },
      "execution_count": null,
      "outputs": []
    }
  ]
}